{
  "cells": [
    {
      "cell_type": "markdown",
      "metadata": {
        "id": "view-in-github",
        "colab_type": "text"
      },
      "source": [
        "<a href=\"https://colab.research.google.com/github/awaisarif18/PDC-Assignments/blob/main/PDC_cuda_assignment.ipynb\" target=\"_parent\"><img src=\"https://colab.research.google.com/assets/colab-badge.svg\" alt=\"Open In Colab\"/></a>"
      ]
    },
    {
      "cell_type": "markdown",
      "id": "f2d891ad",
      "metadata": {
        "id": "f2d891ad"
      },
      "source": [
        "# CUDA Assignment 03\n",
        "Mohammad Mehdi\n",
        "SP22-BCS-020\n"
      ]
    },
    {
      "cell_type": "code",
      "execution_count": null,
      "id": "4d556218",
      "metadata": {
        "colab": {
          "base_uri": "https://localhost:8080/"
        },
        "id": "4d556218",
        "outputId": "fb6e413a-5048-4943-8f45-39ec0e32b1d4"
      },
      "outputs": [
        {
          "output_type": "stream",
          "name": "stdout",
          "text": [
            "Note: Make sure Runtime -> Change runtime type -> GPU is selected.\n",
            "Python version: 3.12.11 (main, Jun  4 2025, 08:56:18) [GCC 11.4.0]\n",
            "Thu Oct  2 07:41:15 2025       \n",
            "+-----------------------------------------------------------------------------------------+\n",
            "| NVIDIA-SMI 550.54.15              Driver Version: 550.54.15      CUDA Version: 12.4     |\n",
            "|-----------------------------------------+------------------------+----------------------+\n",
            "| GPU  Name                 Persistence-M | Bus-Id          Disp.A | Volatile Uncorr. ECC |\n",
            "| Fan  Temp   Perf          Pwr:Usage/Cap |           Memory-Usage | GPU-Util  Compute M. |\n",
            "|                                         |                        |               MIG M. |\n",
            "|=========================================+========================+======================|\n",
            "|   0  Tesla T4                       Off |   00000000:00:04.0 Off |                    0 |\n",
            "| N/A   33C    P8              9W /   70W |       0MiB /  15360MiB |      0%      Default |\n",
            "|                                         |                        |                  N/A |\n",
            "+-----------------------------------------+------------------------+----------------------+\n",
            "                                                                                         \n",
            "+-----------------------------------------------------------------------------------------+\n",
            "| Processes:                                                                              |\n",
            "|  GPU   GI   CI        PID   Type   Process name                              GPU Memory |\n",
            "|        ID   ID                                                               Usage      |\n",
            "|=========================================================================================|\n",
            "|  No running processes found                                                             |\n",
            "+-----------------------------------------------------------------------------------------+\n",
            "/usr/local/cuda/bin/nvcc\n",
            "nvcc: NVIDIA (R) Cuda compiler driver\n",
            "Copyright (c) 2005-2024 NVIDIA Corporation\n",
            "Built on Thu_Jun__6_02:18:23_PDT_2024\n",
            "Cuda compilation tools, release 12.5, V12.5.82\n",
            "Build cuda_12.5.r12.5/compiler.34385749_0\n"
          ]
        }
      ],
      "source": [
        "# Cell 1 — Verify GPU and nvcc\n",
        "import os\n",
        "print(\"Note: Make sure Runtime -> Change runtime type -> GPU is selected.\")\n",
        "print(\"Python version:\", os.sys.version)\n",
        "\n",
        "# Run nvidia-smi and check nvcc\n",
        "!nvidia-smi || echo \"nvidia-smi not available\"\n",
        "\n",
        "# Check nvcc\n",
        "!which nvcc && nvcc --version || echo \"nvcc not found; make sure Colab GPU runtime selected\"\n"
      ]
    },
    {
      "cell_type": "code",
      "execution_count": null,
      "id": "da263d18",
      "metadata": {
        "id": "da263d18"
      },
      "outputs": [],
      "source": [
        "%%bash\n",
        "# Cell 2 — Write CUDA file (cuda_demo.cu)\n",
        "cat > cuda_demo.cu << 'EOF'\n",
        "#include <cstdio>\n",
        "#include <cstdlib>\n",
        "#include <cuda_runtime.h>\n",
        "\n",
        "#define N 1024\n",
        "\n",
        "#define CUDA_CHECK(call) do {     cudaError_t err = call;     if (err != cudaSuccess) {         fprintf(stderr, \"CUDA Error at %s:%d -> %s\\n\", __FILE__, __LINE__, cudaGetErrorString(err));         exit(EXIT_FAILURE);     } } while(0)\n",
        "\n",
        "// kernel1: C = A + B\n",
        "__global__ void kernel1(const int *A, const int *B, int *C, int n) {\n",
        "    int idx = blockIdx.x * blockDim.x + threadIdx.x;\n",
        "    if (idx < n) C[idx] = A[idx] + B[idx];\n",
        "}\n",
        "\n",
        "// kernel2: D = C * C\n",
        "__global__ void kernel2(const int *C, int *D, int n) {\n",
        "    int idx = blockIdx.x * blockDim.x + threadIdx.x;\n",
        "    if (idx < n) {\n",
        "        int v = C[idx];\n",
        "        D[idx] = v * v;\n",
        "    }\n",
        "}\n",
        "\n",
        "// reduction (per-block shared-memory sum)\n",
        "__global__ void block_reduce_sum(const int *in, long long *block_sums, int n) {\n",
        "    extern __shared__ long long sdata[];\n",
        "    unsigned int tid = threadIdx.x;\n",
        "    unsigned int idx = blockIdx.x * blockDim.x + threadIdx.x;\n",
        "\n",
        "    long long x = 0;\n",
        "    if (idx < n) x = in[idx];\n",
        "    sdata[tid] = x;\n",
        "    __syncthreads();\n",
        "\n",
        "    for (unsigned int s = blockDim.x / 2; s > 0; s >>= 1) {\n",
        "        if (tid < s) sdata[tid] += sdata[tid + s];\n",
        "        __syncthreads();\n",
        "    }\n",
        "\n",
        "    if (tid == 0) block_sums[blockIdx.x] = sdata[0];\n",
        "}\n",
        "\n",
        "int main() {\n",
        "    printf(\"Starting CUDA demo with N=%d\\n\", N);\n",
        "\n",
        "    // Host allocation\n",
        "    int *h_A = (int*)malloc(N * sizeof(int));\n",
        "    int *h_B = (int*)malloc(N * sizeof(int));\n",
        "    int *h_C = (int*)malloc(N * sizeof(int));\n",
        "    int *h_D = (int*)malloc(N * sizeof(int));\n",
        "    if (!h_A || !h_B || !h_C || !h_D) { fprintf(stderr, \"Host malloc failed\\n\"); return 1; }\n",
        "\n",
        "    for (int i = 0; i < N; ++i) { h_A[i] = i; h_B[i] = 2*i; }\n",
        "\n",
        "    // Device allocation\n",
        "    int *d_A = nullptr, *d_B = nullptr, *d_C = nullptr, *d_D = nullptr;\n",
        "    CUDA_CHECK(cudaMalloc((void**)&d_A, N * sizeof(int)));\n",
        "    CUDA_CHECK(cudaMalloc((void**)&d_B, N * sizeof(int)));\n",
        "    CUDA_CHECK(cudaMalloc((void**)&d_C, N * sizeof(int)));\n",
        "    CUDA_CHECK(cudaMalloc((void**)&d_D, N * sizeof(int)));\n",
        "\n",
        "    // Copy host -> device\n",
        "    CUDA_CHECK(cudaMemcpy(d_A, h_A, N * sizeof(int), cudaMemcpyHostToDevice));\n",
        "    CUDA_CHECK(cudaMemcpy(d_B, h_B, N * sizeof(int), cudaMemcpyHostToDevice));\n",
        "\n",
        "    int threads = 256;\n",
        "    int blocks = (N + threads - 1) / threads;\n",
        "\n",
        "    // Launch kernels\n",
        "    printf(\"Launching kernel1 (serial) ...\\n\");\n",
        "    kernel1<<<blocks, threads>>>(d_A, d_B, d_C, N);\n",
        "    CUDA_CHECK(cudaGetLastError());\n",
        "\n",
        "    printf(\"Launching kernel2 (serial) ...\\n\");\n",
        "    kernel2<<<blocks, threads>>>(d_C, d_D, N);\n",
        "    CUDA_CHECK(cudaGetLastError());\n",
        "\n",
        "    CUDA_CHECK(cudaDeviceSynchronize());\n",
        "    CUDA_CHECK(cudaMemcpy(h_C, d_C, N * sizeof(int), cudaMemcpyDeviceToHost));\n",
        "    CUDA_CHECK(cudaMemcpy(h_D, d_D, N * sizeof(int), cudaMemcpyDeviceToHost));\n",
        "\n",
        "    printf(\"Samples (first 3, last 3):\\n\");\n",
        "    for (int i : {0,1,10}) printf(\"i=%d A=%d B=%d C=%d D=%d\\n\", i, h_A[i], h_B[i], h_C[i], h_D[i]);\n",
        "    printf(\"...\\n\");\n",
        "    for (int i : {N-3, N-2, N-1}) printf(\"i=%d A=%d B=%d C=%d D=%d\\n\", i, h_A[i], h_B[i], h_C[i], h_D[i]);\n",
        "\n",
        "    bool ok = true;\n",
        "    for (int i = 0; i < N; ++i) {\n",
        "        if (h_C[i] != h_A[i] + h_B[i]) { ok = false; break; }\n",
        "        if (h_D[i] != h_C[i] * h_C[i]) { ok = false; break; }\n",
        "    }\n",
        "    printf(\"Validation %s\\n\", ok ? \"PASSED\" : \"FAILED\");\n",
        "\n",
        "    // Reduction demo\n",
        "    int threads_red = 256;\n",
        "    int blocks_red = (N + threads_red -1)/threads_red;\n",
        "    long long *d_block_sums=nullptr; long long *h_block_sums=(long long*)malloc(blocks_red * sizeof(long long));\n",
        "    CUDA_CHECK(cudaMalloc((void**)&d_block_sums, blocks_red * sizeof(long long)));\n",
        "\n",
        "    block_reduce_sum<<<blocks_red, threads_red, threads_red * sizeof(long long)>>>(d_D, d_block_sums, N);\n",
        "    CUDA_CHECK(cudaDeviceSynchronize());\n",
        "    CUDA_CHECK(cudaMemcpy(h_block_sums, d_block_sums, blocks_red * sizeof(long long), cudaMemcpyDeviceToHost));\n",
        "\n",
        "    long long gpu_sum = 0;\n",
        "    for (int i = 0; i < blocks_red; ++i) gpu_sum += h_block_sums[i];\n",
        "\n",
        "    long long cpu_sum = 0;\n",
        "    for (int i = 0; i < N; ++i) cpu_sum += (long long)h_D[i];\n",
        "\n",
        "    printf(\"Reduction sum GPU = %lld\\n\", gpu_sum);\n",
        "    printf(\"Reduction sum CPU = %lld\\n\", cpu_sum);\n",
        "\n",
        "    free(h_A); free(h_B); free(h_C); free(h_D); free(h_block_sums);\n",
        "    CUDA_CHECK(cudaFree(d_A)); CUDA_CHECK(cudaFree(d_B)); CUDA_CHECK(cudaFree(d_C)); CUDA_CHECK(cudaFree(d_D));\n",
        "    CUDA_CHECK(cudaFree(d_block_sums));\n",
        "    printf(\"Done.\\n\");\n",
        "    return 0;\n",
        "}\n",
        "EOF\n",
        "\n",
        "nvcc -o cuda_demo cuda_demo.cu || { echo \"nvcc compile failed\"; exit 1; }"
      ]
    },
    {
      "cell_type": "code",
      "source": [
        "# Detect GPU model and driver info\n",
        "import subprocess, shlex, sys\n",
        "\n",
        "def run(cmd):\n",
        "    try:\n",
        "        out = subprocess.check_output(shlex.split(cmd), stderr=subprocess.STDOUT).decode()\n",
        "    except subprocess.CalledProcessError as e:\n",
        "        out = e.output.decode()\n",
        "    return out\n",
        "\n",
        "print(\"nvidia-smi output:\")\n",
        "print(run(\"nvidia-smi -L\"))\n",
        "print()\n",
        "print(\"Detailed nvidia-smi:\")\n",
        "print(run(\"nvidia-smi\"))\n",
        "print()\n",
        "print(\"nvcc version (if available):\")\n",
        "print(run(\"nvcc --version\"))\n"
      ],
      "metadata": {
        "colab": {
          "base_uri": "https://localhost:8080/"
        },
        "id": "zvOWMnGc3X0N",
        "outputId": "b2383246-c2d8-416b-c7f3-61cc81e53b12"
      },
      "id": "zvOWMnGc3X0N",
      "execution_count": null,
      "outputs": [
        {
          "output_type": "stream",
          "name": "stdout",
          "text": [
            "nvidia-smi output:\n",
            "GPU 0: Tesla T4 (UUID: GPU-d95790f3-1089-fd7a-8c5d-a114687791ff)\n",
            "\n",
            "\n",
            "Detailed nvidia-smi:\n",
            "Thu Oct  2 07:41:27 2025       \n",
            "+-----------------------------------------------------------------------------------------+\n",
            "| NVIDIA-SMI 550.54.15              Driver Version: 550.54.15      CUDA Version: 12.4     |\n",
            "|-----------------------------------------+------------------------+----------------------+\n",
            "| GPU  Name                 Persistence-M | Bus-Id          Disp.A | Volatile Uncorr. ECC |\n",
            "| Fan  Temp   Perf          Pwr:Usage/Cap |           Memory-Usage | GPU-Util  Compute M. |\n",
            "|                                         |                        |               MIG M. |\n",
            "|=========================================+========================+======================|\n",
            "|   0  Tesla T4                       Off |   00000000:00:04.0 Off |                    0 |\n",
            "| N/A   33C    P8              9W /   70W |       0MiB /  15360MiB |      0%      Default |\n",
            "|                                         |                        |                  N/A |\n",
            "+-----------------------------------------+------------------------+----------------------+\n",
            "                                                                                         \n",
            "+-----------------------------------------------------------------------------------------+\n",
            "| Processes:                                                                              |\n",
            "|  GPU   GI   CI        PID   Type   Process name                              GPU Memory |\n",
            "|        ID   ID                                                               Usage      |\n",
            "|=========================================================================================|\n",
            "|  No running processes found                                                             |\n",
            "+-----------------------------------------------------------------------------------------+\n",
            "\n",
            "\n",
            "nvcc version (if available):\n",
            "nvcc: NVIDIA (R) Cuda compiler driver\n",
            "Copyright (c) 2005-2024 NVIDIA Corporation\n",
            "Built on Thu_Jun__6_02:18:23_PDT_2024\n",
            "Cuda compilation tools, release 12.5, V12.5.82\n",
            "Build cuda_12.5.r12.5/compiler.34385749_0\n",
            "\n"
          ]
        }
      ]
    },
    {
      "cell_type": "code",
      "source": [
        "%%bash\n",
        "echo \"Recompiling with multiple gencode targets...\"\n",
        "# adjust file name if different\n",
        "CU_FILE=\"cuda_demo.cu\"\n",
        "OUT_BIN=\"cuda_demo\"\n",
        "\n",
        "nvcc -O2 \"$CU_FILE\" -o \"$OUT_BIN\" \\\n",
        "  -gencode=arch=compute_70,code=sm_70 \\\n",
        "  -gencode=arch=compute_75,code=sm_75 \\\n",
        "  -gencode=arch=compute_80,code=sm_80 \\\n",
        "  -gencode=arch=compute_86,code=sm_86 \\\n",
        "  -gencode=arch=compute_90,code=compute_90 || { echo \"nvcc compile FAILED\"; exit 1; }\n",
        "\n",
        "echo \"Compile finished. Running the program...\"\n",
        "./\"$OUT_BIN\"\n"
      ],
      "metadata": {
        "colab": {
          "base_uri": "https://localhost:8080/"
        },
        "id": "FJ4aFgcn3atD",
        "outputId": "dd0c733a-f5af-44ff-ad47-df8f16405bce"
      },
      "id": "FJ4aFgcn3atD",
      "execution_count": null,
      "outputs": [
        {
          "output_type": "stream",
          "name": "stdout",
          "text": [
            "Recompiling with multiple gencode targets...\n",
            "Compile finished. Running the program...\n",
            "Starting CUDA demo with N=1024\n",
            "Launching kernel1 (serial) ...\n",
            "Launching kernel2 (serial) ...\n",
            "Samples (first 3, last 3):\n",
            "i=0 A=0 B=0 C=0 D=0\n",
            "i=1 A=1 B=2 C=3 D=9\n",
            "i=10 A=10 B=20 C=30 D=900\n",
            "...\n",
            "i=1021 A=1021 B=2042 C=3063 D=9381969\n",
            "i=1022 A=1022 B=2044 C=3066 D=9400356\n",
            "i=1023 A=1023 B=2046 C=3069 D=9418761\n",
            "Validation PASSED\n",
            "Reduction sum GPU = 3216508416\n",
            "Reduction sum CPU = 3216508416\n",
            "Done.\n"
          ]
        }
      ]
    }
  ],
  "metadata": {
    "colab": {
      "provenance": [],
      "gpuType": "T4",
      "include_colab_link": true
    },
    "language_info": {
      "name": "python"
    },
    "accelerator": "GPU",
    "kernelspec": {
      "name": "python3",
      "display_name": "Python 3"
    }
  },
  "nbformat": 4,
  "nbformat_minor": 5
}